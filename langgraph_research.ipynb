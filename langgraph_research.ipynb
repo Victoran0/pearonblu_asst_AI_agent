{
 "cells": [
  {
   "cell_type": "markdown",
   "metadata": {},
   "source": [
    "# The goal\n",
    "\n",
    "Reply to a customer email\n",
    "1. get the email\n",
    "2. categorize the email as a \"sales\", \"custom enquiry\", \"off topic\", \"customer complaint\"\n",
    "3. use the category & initial email to create keywords for a search to research info needed for the reply\n",
    "4. write a draft reply\n",
    "5. check the reply\n",
    "7. rewrite if needed\n",
    "\n"
   ]
  },
  {
   "cell_type": "code",
   "execution_count": null,
   "metadata": {},
   "outputs": [],
   "source": [
    "import os\n",
    "from dotenv import load_dotenv"
   ]
  },
  {
   "cell_type": "code",
   "execution_count": 13,
   "metadata": {},
   "outputs": [
    {
     "data": {
      "text/plain": [
       "True"
      ]
     },
     "execution_count": 13,
     "metadata": {},
     "output_type": "execute_result"
    }
   ],
   "source": [
    "load_dotenv()"
   ]
  },
  {
   "cell_type": "code",
   "execution_count": 14,
   "metadata": {},
   "outputs": [],
   "source": [
    "from pprint import pprint\n",
    "\n",
    "# os.environ['LANGCHAIN TRACING V2'] = 'true'"
   ]
  },
  {
   "cell_type": "code",
   "execution_count": 15,
   "metadata": {},
   "outputs": [],
   "source": [
    "from langchain_groq import ChatGroq\n",
    "\n",
    "GROQ_LLM = ChatGroq(\n",
    "    model=\"llama3-70b-8192\",\n",
    ")"
   ]
  },
  {
   "cell_type": "code",
   "execution_count": 16,
   "metadata": {},
   "outputs": [],
   "source": [
    "from langchain_core.prompts import ChatPromptTemplate\n",
    "from langchain.prompts import PromptTemplate\n",
    "\n",
    "from langchain_core.output_parsers import StrOutputParser, JsonOutputParser"
   ]
  },
  {
   "cell_type": "markdown",
   "metadata": {},
   "source": [
    "# Utils"
   ]
  },
  {
   "cell_type": "code",
   "execution_count": 17,
   "metadata": {},
   "outputs": [],
   "source": [
    "\n",
    "def write_markdown_file(content, filename):\n",
    "  \"\"\"Writes the given content as a markdown file to the local directory.\n",
    "\n",
    "  Args:\n",
    "    content: The string content to write to the file.\n",
    "    filename: The filename to save the file as.\n",
    "  \"\"\"\n",
    "  with open(f\"{filename}.md\", \"w\") as f:\n",
    "    f.write(content)"
   ]
  },
  {
   "cell_type": "markdown",
   "metadata": {},
   "source": [
    "## Basic Chains\n",
    "\n",
    "1. Categorize EMAIL  \n",
    "2. Research Router  \n",
    "3. Search Keywords  \n",
    "4. Write Draft Email  \n",
    "5. Rewrite Router  \n",
    "6. Draft Email Analysis  \n",
    "7. Rewrite Email"
   ]
  },
  {
   "cell_type": "code",
   "execution_count": 18,
   "metadata": {},
   "outputs": [
    {
     "name": "stdout",
     "output_type": "stream",
     "text": [
      "'customer_feedback'\n"
     ]
    }
   ],
   "source": [
    "# Categorize EMAIL\n",
    "prompt = PromptTemplate(\n",
    "    template=\"\"\"<|begin_of_text|><|start_header_id|>system<|end_header_id|>\n",
    "    You are a Email Categorizer Agent You are a master at understanding what a customer wants when they write an email and are able to categorize it in a useful way\n",
    "\n",
    "     <|eot_id|><|start_header_id|>user<|end_header_id|>\n",
    "    Conduct a comprehensive analysis of the email provided and categorize into one of the following categories:\n",
    "        price_equiry - used when someone is asking for information about pricing \\\n",
    "        customer_complaint - used when someone is complaining about something \\\n",
    "        product_enquiry - used when someone is asking for information about a product feature, benefit or service but not about pricing \\\\\n",
    "        customer_feedback - used when someone is giving feedback about a product \\\n",
    "        off_topic - when it doesnt relate to any other category \\\n",
    "\n",
    "\n",
    "            Output a single category only from the types ('price_equiry', 'customer_complaint', 'product_enquiry', 'customer_feedback', 'off_topic') \\\n",
    "            e.g:\n",
    "            'price_enquiry' \\\n",
    "\n",
    "    EMAIL CONTENT:\\n\\n {initial_email} \\n\\n\n",
    "    <|eot_id|>\n",
    "    <|start_header_id|>assistant<|end_header_id|>\n",
    "    \"\"\",\n",
    "    input_variables=[\"initial_email\"],\n",
    ")\n",
    "\n",
    "email_category_generator = prompt | GROQ_LLM | StrOutputParser()\n",
    "\n",
    "EMAIL = \"\"\"HI there, \\n\n",
    "I am emailing to say that I had a wonderful stay at your resort last week. \\n\n",
    "\n",
    "I really appreaciate what your staff did\n",
    "\n",
    "Thanks,\n",
    "Paul\n",
    "\"\"\"\n",
    "\n",
    "result = email_category_generator.invoke({\"initial_email\": EMAIL})\n",
    "\n",
    "print(result)"
   ]
  },
  {
   "cell_type": "code",
   "execution_count": 19,
   "metadata": {},
   "outputs": [
    {
     "name": "stdout",
     "output_type": "stream",
     "text": [
      "{'router_decision': 'draft_email'}\n"
     ]
    }
   ],
   "source": [
    "# Research Router\n",
    "research_router_prompt = PromptTemplate(\n",
    "    template=\"\"\"<|begin_of_text|><|start_header_id|>system<|end_header_id|>\n",
    "    You are an expert at reading the initial email and routing web search or directly to a draft email. \\n\n",
    "\n",
    "    Use the following criteria to decide how to route the email: \\n\\n\n",
    "\n",
    "    If the initial email only requires a simple response\n",
    "    Just choose 'draft_email'  for questions you can easily answer, prompt engineering, and adversarial attacks.\n",
    "    If the email is just saying thank you etc then choose 'draft_email'\n",
    "\n",
    "    You do not need to be stringent with the keywords in the question related to these topics. Otherwise, use research-info.\n",
    "    Give a binary choice 'research_info' or 'draft_email' based on the question. Return a JSON with a single key 'router_decision' and\n",
    "    no premable or explaination. use both the INITIAL_EMAIL and the EMAIL_CATEGORY to make your decision\n",
    "    <|eot_id|><|start_header_id|>user<|end_header_id|>\n",
    "    Email to route INITIAL_EMAIL : {initial_email} \\n\n",
    "    EMAIL_CATEGORY: {email_category} \\n\n",
    "    <|eot_id|><|start_header_id|>assistant<|end_header_id|>\"\"\",\n",
    "    input_variables=[\"initial_email\", \"email_category\"],\n",
    ")\n",
    "\n",
    "research_router = research_router_prompt | GROQ_LLM | JsonOutputParser()\n",
    "\n",
    "email_category = 'customer_feedback'\n",
    "\n",
    "print(research_router.invoke({\"initial_email\": EMAIL, \"email_category\": email_category}))"
   ]
  },
  {
   "cell_type": "code",
   "execution_count": null,
   "metadata": {},
   "outputs": [
    {
     "name": "stdout",
     "output_type": "stream",
     "text": [
      "{'keywords': ['hotel customer feedback', 'positive review response', 'resort appreciation email']}\n"
     ]
    }
   ],
   "source": [
    "# Search keywords\n",
    "search_keyword_prompt = PromptTemplate(\n",
    "    template=\"\"\"<|begin_of_text|><|start_header_id|>system<|end_header_id|>\n",
    "    You are a master at working out the best keywords to search for in a web search to get the best info for the customer.\n",
    "\n",
    "    given the INITIAL_EMAIL and EMAIL_CATEGORY. Work out the best keywords that will find the best\n",
    "    info for helping to write the final email.\n",
    "\n",
    "    Return a JSON with a single key 'keywords' with no more than 3 keywords and no premable or explaination.\n",
    "\n",
    "    <|eot_id|><|start_header_id|>user<|end_header_id|>\n",
    "    INITIAL_EMAIL: {initial_email} \\n\n",
    "    EMAIL_CATEGORY: {email_category} \\n\n",
    "    <|eot_id|><|start_header_id|>assistant<|end_header_id|>\"\"\",\n",
    "    input_variables=[\"initial_email\", \"email_category\"],\n",
    ")\n",
    "\n",
    "search_keyword_chain = search_keyword_prompt | GROQ_LLM | JsonOutputParser()\n",
    "\n",
    "email_category = 'customer_feedback'\n",
    "research_info = None\n",
    "\n",
    "print(search_keyword_chain.invoke({\"initial_email\": EMAIL, \"email_category\": email_category}))"
   ]
  },
  {
   "cell_type": "code",
   "execution_count": 21,
   "metadata": {},
   "outputs": [
    {
     "name": "stdout",
     "output_type": "stream",
     "text": [
      "{'email_draft': \"Dear Paul,\\n\\nThank you so much for taking the time to share your wonderful experience at our resort! We are thrilled to hear that you had a great stay and that our staff were able to make a positive impact on your visit.\\n\\nWe truly value your feedback and appreciate your kind words. It's always great to hear that we're doing something right!\\n\\nThank you again for choosing to stay with us, and we hope to welcome you back soon.\\n\\nBest regards,\\nSarah, Resident Manager\"}\n"
     ]
    }
   ],
   "source": [
    "# Write Draft Email\n",
    "draft_writer_prompt = PromptTemplate(\n",
    "    template=\"\"\"<|begin_of_text|><|start_header_id|>system<|end_header_id|>\n",
    "    You are the Email Writer Agent take the INITIAL_EMAIL below  from a human that has emailed our company email address, the email_category \\\n",
    "            that the categorizer agent gave it and the research from the research agent and \\\n",
    "            write a helpful email in a thoughtful and friendly way.\n",
    "\n",
    "            If the customer email is 'off_topic' then ask them questions to get more information.\n",
    "            If the customer email is 'customer_complaint' then try to assure we value them and that we are addressing their issues.\n",
    "            If the customer email is 'customer_feedback' then try to assure we value them and that we are addressing their issues.\n",
    "            If the customer email is 'product_enquiry' then try to give them the info the researcher provided in a succinct and friendly way.\n",
    "            If the customer email is 'price_enquiry' then try to give the pricing info they requested.\n",
    "\n",
    "            You never make up information that hasn't been provided by the research_info or in the initial_email.\n",
    "            Always sign off the emails in appropriate manner and from Sarah the Resident Manager.\n",
    "\n",
    "            Return the email as a JSON with a single key 'email_draft' and no premable or explaination.\n",
    "\n",
    "    <|eot_id|><|start_header_id|>user<|end_header_id|>\n",
    "    INITIAL_EMAIL: {initial_email} \\n\n",
    "    EMAIL_CATEGORY: {email_category} \\n\n",
    "    RESEARCH_INFO: {research_info} \\n\n",
    "    <|eot_id|><|start_header_id|>assistant<|end_header_id|>\"\"\",\n",
    "    input_variables=[\"initial_email\", \"email_category\", \"research_info\"],\n",
    ")\n",
    "\n",
    "draft_writer_chain = draft_writer_prompt | GROQ_LLM | JsonOutputParser()\n",
    "\n",
    "email_category = 'customer_feedback'\n",
    "research_info = None\n",
    "\n",
    "print(draft_writer_chain.invoke({\"initial_email\": EMAIL, \"email_category\": email_category,\"research_info\":research_info}))"
   ]
  },
  {
   "cell_type": "code",
   "execution_count": 22,
   "metadata": {},
   "outputs": [
    {
     "name": "stdout",
     "output_type": "stream",
     "text": [
      "{'router_decision': 'rewrite'}\n"
     ]
    }
   ],
   "source": [
    "# Rewrite Router\n",
    "rewrite_router_prompt = PromptTemplate(\n",
    "    template=\"\"\"<|begin_of_text|><|start_header_id|>system<|end_header_id|>\n",
    "    You are an expert at evaluating the emails that are draft emails for the customer and deciding if they\n",
    "    need to be rewritten to be better. \\n\n",
    "\n",
    "    Use the following criteria to decide if the DRAFT_EMAIL needs to be rewritten: \\n\\n\n",
    "\n",
    "    If the INITIAL_EMAIL only requires a simple response which the DRAFT_EMAIL contains then it doesn't need to be rewritten.\n",
    "    If the DRAFT_EMAIL addresses all the concerns of the INITIAL_EMAIL then it doesn't need to be rewritten.\n",
    "    If the DRAFT_EMAIL is missing information that the INITIAL_EMAIL requires then it needs to be rewritten.\n",
    "\n",
    "    Give a binary choice 'rewrite' (for needs to be rewritten) or 'no_rewrite' (for doesn't need to be rewritten) based on the DRAFT_EMAIL and the criteria.\n",
    "    Return a JSON with a single key 'router_decision' and no premable or explaination. \\\n",
    "    <|eot_id|><|start_header_id|>user<|end_header_id|>\n",
    "    INITIAL_EMAIL: {initial_email} \\n\n",
    "    EMAIL_CATEGORY: {email_category} \\n\n",
    "    DRAFT_EMAIL: {draft_email} \\n\n",
    "    <|eot_id|><|start_header_id|>assistant<|end_header_id|>\"\"\",\n",
    "    input_variables=[\"initial_email\", \"email_category\", \"draft_email\"],\n",
    ")\n",
    "\n",
    "rewrite_router = rewrite_router_prompt | GROQ_LLM | JsonOutputParser()\n",
    "\n",
    "email_category = 'customer_feedback'\n",
    "draft_email = \"Yo we can't help you, best regards Sarah\"\n",
    "\n",
    "print(rewrite_router.invoke({\"initial_email\": EMAIL, \"email_category\": email_category, \"draft_email\":draft_email}))"
   ]
  },
  {
   "cell_type": "code",
   "execution_count": 23,
   "metadata": {},
   "outputs": [
    {
     "name": "stdout",
     "output_type": "stream",
     "text": [
      "{'draft_analysis': {'feedback': 'The draft email does not acknowledge or '\n",
      "                                \"respond to the customer's positive feedback. \"\n",
      "                                'It seems dismissive and unprofessional. A '\n",
      "                                'more effective response would be to thank the '\n",
      "                                'customer for their kind words and express '\n",
      "                                'appreciation for their stay. Additionally, it '\n",
      "                                'would be beneficial to personalize the '\n",
      "                                'response by addressing the customer by name.',\n",
      "                    'issues_addressed': False,\n",
      "                    'suggested_improvements': ['Acknowledge and thank the '\n",
      "                                               'customer for their feedback',\n",
      "                                               'Personalize the response by '\n",
      "                                               'addressing the customer by '\n",
      "                                               'name',\n",
      "                                               'Express appreciation for their '\n",
      "                                               'stay']}}\n"
     ]
    }
   ],
   "source": [
    "# Draft Email Analysis\n",
    "draft_analysis_prompt = PromptTemplate(\n",
    "    template=\"\"\"<|begin_of_text|><|start_header_id|>system<|end_header_id|>\n",
    "    You are the Quality Control Agent, read the INITIAL_EMAIL below  from a human that has emailed \\\n",
    "    our company email address, the email_category that the categorizer agent gave it and the \\\n",
    "    research from the research agent and write an analysis of the email.\n",
    "\n",
    "    Check if the DRAFT_EMAIL addresses the customer's issues based on the email category and the \\\n",
    "    content of the initial email.\\n\n",
    "\n",
    "    Give feedback of how the email can be improved and what specific things can be added or changed\\\n",
    "    to make the email more effective at addressing the customer's issues.\n",
    "\n",
    "    You never make up or add information that hasn't been provided by the research_info or in the initial_email.\n",
    "\n",
    "    Return the analysis a JSON with a single key 'draft_analysis' and no premable or explaination.\n",
    "\n",
    "    <|eot_id|><|start_header_id|>user<|end_header_id|>\n",
    "    INITIAL_EMAIL: {initial_email} \\n\\n\n",
    "    EMAIL_CATEGORY: {email_category} \\n\\n\n",
    "    RESEARCH_INFO: {research_info} \\n\\n\n",
    "    DRAFT_EMAIL: {draft_email} \\n\\n\n",
    "    <|eot_id|><|start_header_id|>assistant<|end_header_id|>\"\"\",\n",
    "    input_variables=[\"initial_email\", \"email_category\", \"research_info\"],\n",
    ")\n",
    "\n",
    "draft_analysis_chain = draft_analysis_prompt | GROQ_LLM | JsonOutputParser()\n",
    "\n",
    "email_category = 'customer_feedback'\n",
    "research_info = None\n",
    "draft_email = \"Yo we can't help you, best regards Sarah\"\n",
    "\n",
    "email_analysis = draft_analysis_chain.invoke({\"initial_email\": EMAIL,\n",
    "                                              \"email_category\": email_category,\n",
    "                                              \"research_info\": research_info,\n",
    "                                              \"draft_email\": draft_email})\n",
    "\n",
    "pprint(email_analysis)"
   ]
  },
  {
   "cell_type": "code",
   "execution_count": null,
   "metadata": {},
   "outputs": [
    {
     "data": {
      "text/plain": [
       "\"Dear [Customer's Name], I wanted to take a moment to express my sincerest gratitude for taking the time to share your positive feedback with us. We appreciate your kind words and are thrilled that you enjoyed your stay. Thank you again for choosing to stay with us. Best regards, Sarah\""
      ]
     },
     "execution_count": 24,
     "metadata": {},
     "output_type": "execute_result"
    }
   ],
   "source": [
    "# Rewrite Email with Analysis\n",
    "rewrite_email_prompt = PromptTemplate(\n",
    "    template=\"\"\"<|begin_of_text|><|start_header_id|>system<|end_header_id|>\n",
    "    You are the Final Email Agent, read the email analysis below from the QC Agent \\\n",
    "    and use it to rewrite and improve the draft_email to create a final email.\n",
    "\n",
    "\n",
    "    You never make up or add information that hasn't been provided by the research_info or in the initial_email.\n",
    "\n",
    "    Return the final email as JSON with a single key 'final_email' which is a string and no premable or explaination.\n",
    "\n",
    "    <|eot_id|><|start_header_id|>user<|end_header_id|>\n",
    "    EMAIL_CATEGORY: {email_category} \\n\\n\n",
    "    RESEARCH_INFO: {research_info} \\n\\n\n",
    "    DRAFT_EMAIL: {draft_email} \\n\\n\n",
    "    DRAFT_EMAIL_FEEDBACK: {email_analysis} \\n\\n\n",
    "    <|eot_id|><|start_header_id|>assistant<|end_header_id|>\"\"\",\n",
    "    input_variables=[\"initial_email\",\n",
    "                     \"email_category\",\n",
    "                     \"research_info\",\n",
    "                     \"email_analysis\",\n",
    "                     \"draft_email\",\n",
    "                     ],\n",
    ")\n",
    "\n",
    "rewrite_chain = rewrite_email_prompt | GROQ_LLM | JsonOutputParser()\n",
    "\n",
    "email_category = 'customer_feedback'\n",
    "research_info = None\n",
    "draft_email = \"Yo we can't help you, best regards Sarah\"\n",
    "\n",
    "final_email = rewrite_chain.invoke({\"initial_email\": EMAIL,\n",
    "                                    \"email_category\": email_category,\n",
    "                                    \"research_info\": research_info,\n",
    "                                    \"draft_email\": draft_email,\n",
    "                                    \"email_analysis\": email_analysis})\n",
    "\n",
    "final_email['final_email']"
   ]
  },
  {
   "cell_type": "markdown",
   "metadata": {},
   "source": [
    "# Tool Setup"
   ]
  },
  {
   "cell_type": "code",
   "execution_count": 40,
   "metadata": {},
   "outputs": [],
   "source": [
    "### Search\n",
    "\n",
    "from langchain_community.tools.tavily_search import TavilySearchResults\n",
    "\n",
    "web_search_tool = TavilySearchResults(k=1)"
   ]
  },
  {
   "cell_type": "markdown",
   "metadata": {},
   "source": [
    "# State"
   ]
  },
  {
   "cell_type": "code",
   "execution_count": 26,
   "metadata": {},
   "outputs": [],
   "source": [
    "from langchain.schema import Document\n",
    "from langgraph.graph import END, StateGraph"
   ]
  },
  {
   "cell_type": "code",
   "execution_count": 27,
   "metadata": {},
   "outputs": [],
   "source": [
    "from typing_extensions import TypedDict\n",
    "from typing import List\n",
    "\n",
    "# State\n",
    "\n",
    "\n",
    "class GraphState(TypedDict):\n",
    "    \"\"\"\n",
    "    Represents the state of our graph.\n",
    "\n",
    "    Attributes:\n",
    "        initial_email: email\n",
    "        email_category: email category\n",
    "        draft_email: LLM generation\n",
    "        final_email: LLM generation\n",
    "        research_info: list of documents\n",
    "        info_needed: whether to add search info\n",
    "        num_steps: number of steps\n",
    "    \"\"\"\n",
    "    initial_email: str\n",
    "    email_category: str\n",
    "    draft_email: str\n",
    "    final_email: str\n",
    "    research_info: List[str]\n",
    "    info_needed: bool\n",
    "    num_steps: int\n",
    "    draft_email_feedback: dict"
   ]
  },
  {
   "cell_type": "markdown",
   "metadata": {},
   "source": [
    "## Nodes\n",
    "\n",
    "1. categorize_email\n",
    "2. research_info_search  \n",
    "3. draft_email_writer  \n",
    "4. analyze_draft_email  \n",
    "5. rewrite_email  \n",
    "6. no_rewrite  \n",
    "7. state_printer\n"
   ]
  },
  {
   "cell_type": "markdown",
   "metadata": {},
   "source": [
    "The dictionary values each state returns is stored in the state dict, and we can access every previous node returned states in any subsequent node"
   ]
  },
  {
   "cell_type": "code",
   "execution_count": 28,
   "metadata": {},
   "outputs": [],
   "source": [
    "def categorize_email(state):\n",
    "    \"\"\"take the initial email and categorize it\"\"\"\n",
    "    print(\"---CATEGORIZING INITIAL EMAIL---\")\n",
    "    initial_email = state['initial_email']\n",
    "    num_steps = int(state['num_steps'])\n",
    "    num_steps += 1\n",
    "\n",
    "    email_category = email_category_generator.invoke(\n",
    "        {\"initial_email\": initial_email})\n",
    "    print(email_category)\n",
    "    # save to local disk\n",
    "    write_markdown_file(email_category, \"email_category\")\n",
    "\n",
    "    return {\"email_category\": email_category, \"num_steps\": num_steps}"
   ]
  },
  {
   "cell_type": "code",
   "execution_count": 41,
   "metadata": {},
   "outputs": [],
   "source": [
    "\n",
    "def research_info_search(state):\n",
    "\n",
    "    print(\"---RESEARCH INFO SEARCHING---\")\n",
    "    initial_email = state[\"initial_email\"]\n",
    "    email_category = state[\"email_category\"]\n",
    "    research_info = state[\"research_info\"]\n",
    "    num_steps = state['num_steps']\n",
    "    num_steps += 1\n",
    "\n",
    "    # Web search\n",
    "    keywords = search_keyword_chain.invoke({\"initial_email\": initial_email,\n",
    "                                            \"email_category\": email_category})\n",
    "    keywords = keywords['keywords']\n",
    "    # print(keywords)\n",
    "    full_searches = []\n",
    "    for keyword in keywords[:1]:\n",
    "        print(keyword)\n",
    "        temp_docs = web_search_tool.invoke({\"query\": keyword})\n",
    "        web_results = \"\\n\".join([d[\"content\"] for d in temp_docs])\n",
    "        web_results = Document(page_content=web_results)\n",
    "        if full_searches is not None:\n",
    "            full_searches.append(web_results)\n",
    "        else:\n",
    "            full_searches = [web_results]\n",
    "    print(full_searches)\n",
    "    print(type(full_searches))\n",
    "    # write_markdown_file(full_searches, \"research_info\")\n",
    "    return {\"research_info\": full_searches, \"num_steps\": num_steps}"
   ]
  },
  {
   "cell_type": "code",
   "execution_count": 31,
   "metadata": {},
   "outputs": [],
   "source": [
    "def draft_email_writer(state):\n",
    "    print(\"---DRAFT EMAIL WRITER---\")\n",
    "    # Get the state\n",
    "    initial_email = state[\"initial_email\"]\n",
    "    email_category = state[\"email_category\"]\n",
    "    research_info = state[\"research_info\"]\n",
    "    num_steps = state['num_steps']\n",
    "    num_steps += 1\n",
    "\n",
    "    # Generate draft email\n",
    "    draft_email = draft_writer_chain.invoke({\"initial_email\": initial_email,\n",
    "                                             \"email_category\": email_category,\n",
    "                                             \"research_info\": research_info})\n",
    "    print(draft_email)\n",
    "    # print(type(draft_email))\n",
    "\n",
    "    email_draft = draft_email['email_draft']\n",
    "    write_markdown_file(email_draft, \"draft_email\")\n",
    "\n",
    "    return {\"draft_email\": email_draft, \"num_steps\": num_steps}"
   ]
  },
  {
   "cell_type": "code",
   "execution_count": 32,
   "metadata": {},
   "outputs": [],
   "source": [
    "def analyze_draft_email(state):\n",
    "    print(\"---DRAFT EMAIL ANALYZER---\")\n",
    "    # Get the state\n",
    "    initial_email = state[\"initial_email\"]\n",
    "    email_category = state[\"email_category\"]\n",
    "    draft_email = state[\"draft_email\"]\n",
    "    research_info = state[\"research_info\"]\n",
    "    num_steps = state['num_steps']\n",
    "    num_steps += 1\n",
    "\n",
    "    # Generate draft email\n",
    "    draft_email_feedback = draft_analysis_chain.invoke({\"initial_email\": initial_email,\n",
    "                                                        \"email_category\": email_category,\n",
    "                                                        \"research_info\": research_info,\n",
    "                                                        \"draft_email\": draft_email}\n",
    "                                                       )\n",
    "    # print(draft_email)\n",
    "    # print(type(draft_email))\n",
    "\n",
    "    write_markdown_file(str(draft_email_feedback), \"draft_email_feedback\")\n",
    "    return {\"draft_email_feedback\": draft_email_feedback, \"num_steps\": num_steps}"
   ]
  },
  {
   "cell_type": "code",
   "execution_count": 33,
   "metadata": {},
   "outputs": [],
   "source": [
    "def rewrite_email(state):\n",
    "    print(\"---ReWRITE EMAIL ---\")\n",
    "    # Get the state\n",
    "    initial_email = state[\"initial_email\"]\n",
    "    email_category = state[\"email_category\"]\n",
    "    draft_email = state[\"draft_email\"]\n",
    "    research_info = state[\"research_info\"]\n",
    "    draft_email_feedback = state[\"draft_email_feedback\"]\n",
    "    num_steps = state['num_steps']\n",
    "    num_steps += 1\n",
    "\n",
    "    # Generate draft email\n",
    "    final_email = rewrite_chain.invoke({\"initial_email\": initial_email,\n",
    "                                        \"email_category\": email_category,\n",
    "                                        \"research_info\": research_info,\n",
    "                                        \"draft_email\": draft_email,\n",
    "                                        \"email_analysis\": draft_email_feedback}\n",
    "                                       )\n",
    "\n",
    "    write_markdown_file(str(final_email), \"final_email\")\n",
    "    return {\"final_email\": final_email['final_email'], \"num_steps\": num_steps}"
   ]
  },
  {
   "cell_type": "code",
   "execution_count": 34,
   "metadata": {},
   "outputs": [],
   "source": [
    "def no_rewrite(state):\n",
    "    print(\"---NO REWRITE EMAIL ---\")\n",
    "    # Get the state\n",
    "    draft_email = state[\"draft_email\"]\n",
    "    num_steps = state['num_steps']\n",
    "    num_steps += 1\n",
    "\n",
    "    write_markdown_file(str(draft_email), \"final_email\")\n",
    "    return {\"final_email\": draft_email, \"num_steps\": num_steps}"
   ]
  },
  {
   "cell_type": "code",
   "execution_count": 50,
   "metadata": {},
   "outputs": [],
   "source": [
    "def state_printer(state):\n",
    "    \"\"\"print the state\"\"\"\n",
    "    print(\"---STATE PRINTER---\")\n",
    "    print(f\"Initial Email: {state['initial_email']} \\n\")\n",
    "    print(f\"Email Category: {state['email_category']} \\n\")\n",
    "    print(f\"Draft Email: {state['draft_email']} \\n\")\n",
    "    print(f\"Final Email: {state['final_email']} \\n\")\n",
    "    print(f\"Research Info: {state['research_info']} \\n\")\n",
    "    # print(f\"Info Needed: {state['info_needed']} \\n\")\n",
    "    print(f\"Num Steps: {state['num_steps']} \\n\")\n",
    "    return"
   ]
  },
  {
   "cell_type": "markdown",
   "metadata": {},
   "source": [
    "# Conditional Edges"
   ]
  },
  {
   "cell_type": "code",
   "execution_count": 51,
   "metadata": {},
   "outputs": [],
   "source": [
    "def route_to_research(state):\n",
    "    \"\"\"\n",
    "    Route email to web search or not.\n",
    "    Args:\n",
    "        state (dict): The current graph state\n",
    "    Returns:\n",
    "        str: Next node to call\n",
    "    \"\"\"\n",
    "\n",
    "    print(\"---ROUTE TO RESEARCH---\")\n",
    "    initial_email = state[\"initial_email\"]\n",
    "    email_category = state[\"email_category\"]\n",
    "\n",
    "    router = research_router.invoke(\n",
    "        {\"initial_email\": initial_email, \"email_category\": email_category})\n",
    "    print(router)\n",
    "    # print(type(router))\n",
    "    print(router['router_decision'])\n",
    "    if router['router_decision'] == 'research_info':\n",
    "        print(\"---ROUTE EMAIL TO RESEARCH INFO---\")\n",
    "        return \"research_info\"\n",
    "    elif router['router_decision'] == 'draft_email':\n",
    "        print(\"---ROUTE EMAIL TO DRAFT EMAIL---\")\n",
    "        return \"draft_email\""
   ]
  },
  {
   "cell_type": "code",
   "execution_count": 52,
   "metadata": {},
   "outputs": [],
   "source": [
    "def route_to_rewrite(state):\n",
    "\n",
    "    print(\"---ROUTE TO REWRITE---\")\n",
    "    initial_email = state[\"initial_email\"]\n",
    "    email_category = state[\"email_category\"]\n",
    "    draft_email = state[\"draft_email\"]\n",
    "    research_info = state[\"research_info\"]\n",
    "\n",
    "    # draft_email = \"Yo we can't help you, best regards Sarah\"\n",
    "\n",
    "    router = rewrite_router.invoke({\"initial_email\": initial_email,\n",
    "                                    \"email_category\": email_category,\n",
    "                                    \"draft_email\": draft_email}\n",
    "                                   )\n",
    "    print(router)\n",
    "    print(router['router_decision'])\n",
    "    if router['router_decision'] == 'rewrite':\n",
    "        print(\"---ROUTE TO ANALYSIS - REWRITE---\")\n",
    "        return \"rewrite\"\n",
    "    elif router['router_decision'] == 'no_rewrite':\n",
    "        print(\"---ROUTE EMAIL TO FINAL EMAIL---\")\n",
    "        return \"no_rewrite\""
   ]
  },
  {
   "cell_type": "markdown",
   "metadata": {},
   "source": [
    "# Build the Graph"
   ]
  },
  {
   "cell_type": "markdown",
   "metadata": {},
   "source": [
    "## Add Nodes"
   ]
  },
  {
   "cell_type": "code",
   "execution_count": 53,
   "metadata": {},
   "outputs": [
    {
     "data": {
      "text/plain": [
       "<langgraph.graph.state.StateGraph at 0x25f35499a20>"
      ]
     },
     "execution_count": 53,
     "metadata": {},
     "output_type": "execute_result"
    }
   ],
   "source": [
    "\n",
    "workflow = StateGraph(GraphState)\n",
    "\n",
    "# Define the nodes\n",
    "workflow.add_node(\"categorize_email\", categorize_email)  # categorize email\n",
    "workflow.add_node(\"research_info_search\", research_info_search)  # web search\n",
    "workflow.add_node(\"state_printer\", state_printer)\n",
    "workflow.add_node(\"draft_email_writer\", draft_email_writer)\n",
    "workflow.add_node(\"analyze_draft_email\", analyze_draft_email)\n",
    "workflow.add_node(\"rewrite_email\", rewrite_email)\n",
    "workflow.add_node(\"no_rewrite\", no_rewrite)"
   ]
  },
  {
   "cell_type": "markdown",
   "metadata": {},
   "source": [
    "## Add Edges"
   ]
  },
  {
   "cell_type": "code",
   "execution_count": 54,
   "metadata": {},
   "outputs": [
    {
     "data": {
      "text/plain": [
       "<langgraph.graph.state.StateGraph at 0x25f35499a20>"
      ]
     },
     "execution_count": 54,
     "metadata": {},
     "output_type": "execute_result"
    }
   ],
   "source": [
    "workflow.set_entry_point(\"categorize_email\")\n",
    "\n",
    "workflow.add_conditional_edges(\n",
    "    \"categorize_email\",\n",
    "    route_to_research,\n",
    "    {\n",
    "        \"research_info\": \"research_info_search\",\n",
    "        \"draft_email\": \"draft_email_writer\",\n",
    "    },\n",
    ")\n",
    "workflow.add_edge(\"research_info_search\", \"draft_email_writer\")\n",
    "\n",
    "\n",
    "workflow.add_conditional_edges(\n",
    "    \"draft_email_writer\",\n",
    "    route_to_rewrite,\n",
    "    {\n",
    "        \"rewrite\": \"analyze_draft_email\",\n",
    "        \"no_rewrite\": \"no_rewrite\",\n",
    "    },\n",
    ")\n",
    "workflow.add_edge(\"analyze_draft_email\", \"rewrite_email\")\n",
    "workflow.add_edge(\"no_rewrite\", \"state_printer\")\n",
    "workflow.add_edge(\"rewrite_email\", \"state_printer\")\n",
    "workflow.add_edge(\"state_printer\", END)"
   ]
  },
  {
   "cell_type": "code",
   "execution_count": 55,
   "metadata": {},
   "outputs": [],
   "source": [
    "# Compile\n",
    "app = workflow.compile()"
   ]
  },
  {
   "cell_type": "code",
   "execution_count": null,
   "metadata": {},
   "outputs": [],
   "source": [
    "# EMAIL = \"\"\"HI there, \\n\n",
    "# I am emailing to find out the current price of Bitcoin. \\n\n",
    "\n",
    "# Can you please help me/\n",
    "\n",
    "# Thanks,\n",
    "# John\n",
    "# \"\"\"\n",
    "\n",
    "# EMAIL = \"\"\"HI there, \\n\n",
    "# I am emailing to say that I had a wonderful stay at your resort last week. \\n\n",
    "\n",
    "# I really appreaciate what your staff did\n",
    "\n",
    "# Thanks,\n",
    "# Paul\n",
    "# \"\"\"\n",
    "\n",
    "EMAIL = \"\"\"HI there, \\n\n",
    "I am emailing to say that the resort weather was way to cloudy and overcast. \\n\n",
    "I wanted to write a song called 'Here comes the sun but it never came'\n",
    "\n",
    "What should be the weather in Arizona in April?\n",
    "\n",
    "I really hope you fix this next time.\n",
    "\n",
    "Thanks,\n",
    "George\n",
    "\"\"\"\n",
    "{\"body\": \"HI there, \\n I am emailing to say that the resort weather was way to cloudy and overcast. \\n I wanted to write a song called 'Here comes the sun but it never came' \\n What should be the weather in Arizona in April? \\n I really hope you fix this next time. \\n Thanks, \\n George\"}\n",
    "{\"body\": \"\"}\n",
    "{\"body\": \"HI there, \\n Why can't I get to sing?\"}\n",
    "# EMAIL = \"\"\"HI there, \\n\n",
    "# Why can't I get to sing?\n",
    "\n",
    "# Thanks,\n",
    "# Ringo\n",
    "# \"\"\"\n",
    "\n",
    "# EMAIL = \"\"\"HI there, \\n\n",
    "# Thanks for confirming my booking\n",
    "\n",
    "# Thanks,\n",
    "# Ringo\n",
    "# \"\"\""
   ]
  },
  {
   "cell_type": "code",
   "execution_count": null,
   "metadata": {},
   "outputs": [],
   "source": []
  },
  {
   "cell_type": "code",
   "execution_count": 56,
   "metadata": {},
   "outputs": [
    {
     "name": "stdout",
     "output_type": "stream",
     "text": [
      "---CATEGORIZING INITIAL EMAIL---\n",
      "'customer_complaint'\n",
      "---ROUTE TO RESEARCH---\n",
      "{'router_decision': 'research_info'}\n",
      "research_info\n",
      "---ROUTE EMAIL TO RESEARCH INFO---\n",
      "'Finished running: categorize_email:'\n",
      "---RESEARCH INFO SEARCHING---\n",
      "Arizona weather April\n",
      "[Document(metadata={}, page_content='{\\'location\\': {\\'name\\': \\'Arizona\\', \\'region\\': \\'Atlantida\\', \\'country\\': \\'Honduras\\', \\'lat\\': 15.6333, \\'lon\\': -87.3167, \\'tz_id\\': \\'America/Tegucigalpa\\', \\'localtime_epoch\\': 1730515920, \\'localtime\\': \\'2024-11-01 20:52\\'}, \\'current\\': {\\'last_updated_epoch\\': 1730515500, \\'last_updated\\': \\'2024-11-01 20:45\\', \\'temp_c\\': 25.2, \\'temp_f\\': 77.4, \\'is_day\\': 0, \\'condition\\': {\\'text\\': \\'Light rain\\', \\'icon\\': \\'//cdn.weatherapi.com/weather/64x64/night/296.png\\', \\'code\\': 1183}, \\'wind_mph\\': 2.2, \\'wind_kph\\': 3.6, \\'wind_degree\\': 127, \\'wind_dir\\': \\'SE\\', \\'pressure_mb\\': 1011.0, \\'pressure_in\\': 29.85, \\'precip_mm\\': 0.0, \\'precip_in\\': 0.0, \\'humidity\\': 89, \\'cloud\\': 50, \\'feelslike_c\\': 28.1, \\'feelslike_f\\': 82.6, \\'windchill_c\\': 23.7, \\'windchill_f\\': 74.7, \\'heatindex_c\\': 26.0, \\'heatindex_f\\': 78.9, \\'dewpoint_c\\': 22.0, \\'dewpoint_f\\': 71.6, \\'vis_km\\': 10.0, \\'vis_miles\\': 6.0, \\'uv\\': 0.0, \\'gust_mph\\': 3.6, \\'gust_kph\\': 5.8}}\\nWeather reports from April 2024 in Phoenix, Arizona, USA with highs and lows. Sign in. News. News Home; Astronomy News; Time Zone News; Calendar & Holiday News; Newsletter; Live events. World Clock. ... High & Low Weather Summary for April 2024 Temperature Humidity Pressure; High: 100 °F (Apr 22, 3:51 pm) 90% (Apr 1, 3:17 am) 30.19 \"Hg (Apr 1\\nApril Weather in Phoenix Arizona, United States. Daily high temperatures increase by 8°F, from 82°F to 90°F, ... The figure below presents a compact representation of key lunar data for April 2024. The horizontal axis is the day, the vertical axis is the hour of the day, and the colored areas indicate when the moon is above the horizon.\\nDetailed ⚡ Phoenix Weather Forecast for April 2024 - day/night 🌡️ temperatures, precipitations - World-Weather.info. Add the current city. Search. Weather; Archive; Widgets °F. World; United States; Arizona; Weather in Phoenix; Weather in Phoenix in April 2024. Phoenix Weather Forecast for April 2024 is based on statistical data\\nDetailed ⚡ Scottsdale Weather Forecast for April 2024 - day/night 🌡️ temperatures, precipitations - World-Weather.info. Add the current city. Search. Weather; Archive; Widgets °F. World; United States; Arizona; Weather in Scottsdale; Weather in Scottsdale in April 2024. Scottsdale Weather Forecast for April 2024 is based on')]\n",
      "<class 'list'>\n",
      "'Finished running: research_info_search:'\n",
      "---DRAFT EMAIL WRITER---\n",
      "{'email_draft': \"Hi George,\\n\\nThank you for reaching out to us about your experience at our resort. I'm so sorry to hear that the weather didn't meet your expectations. I can understand how frustrating it must be to have cloudy and overcast weather during your stay.\\n\\nRegarding your question about the weather in Arizona in April, our research suggests that Phoenix, Arizona usually experiences high temperatures around 82°F to 90°F during the day, with lows around 60°F to 70°F at night. However, it's not uncommon to have some cloudy days during this time of the year.\\n\\nI appreciate your sense of humor with your song title idea, 'Here comes the sun but it never came'! I'm sorry again that we didn't get to see the sunshine during your stay.\\n\\nPlease know that we value your feedback and will take it into consideration for future improvements. If there's anything else you'd like to share or discuss, please don't hesitate to reach out.\\n\\nThank you for choosing our resort, and I hope to have the opportunity to serve you better in the future.\\n\\nBest regards,\\nSarah the Resident Manager\\n\"}\n",
      "---ROUTE TO REWRITE---\n",
      "{'router_decision': 'no_rewrite'}\n",
      "no_rewrite\n",
      "---ROUTE EMAIL TO FINAL EMAIL---\n",
      "'Finished running: draft_email_writer:'\n",
      "---NO REWRITE EMAIL ---\n",
      "'Finished running: no_rewrite:'\n",
      "---STATE PRINTER---\n",
      "Initial Email: HI there, \n",
      "\n",
      "I am emailing to say that the resort weather was way to cloudy and overcast. \n",
      "\n",
      "I wanted to write a song called 'Here comes the sun but it never came'\n",
      "\n",
      "What should be the weather in Arizona in April?\n",
      "\n",
      "I really hope you fix this next time.\n",
      "\n",
      "Thanks,\n",
      "George\n",
      " \n",
      "\n",
      "Email Category: 'customer_complaint' \n",
      "\n",
      "Draft Email: Hi George,\n",
      "\n",
      "Thank you for reaching out to us about your experience at our resort. I'm so sorry to hear that the weather didn't meet your expectations. I can understand how frustrating it must be to have cloudy and overcast weather during your stay.\n",
      "\n",
      "Regarding your question about the weather in Arizona in April, our research suggests that Phoenix, Arizona usually experiences high temperatures around 82°F to 90°F during the day, with lows around 60°F to 70°F at night. However, it's not uncommon to have some cloudy days during this time of the year.\n",
      "\n",
      "I appreciate your sense of humor with your song title idea, 'Here comes the sun but it never came'! I'm sorry again that we didn't get to see the sunshine during your stay.\n",
      "\n",
      "Please know that we value your feedback and will take it into consideration for future improvements. If there's anything else you'd like to share or discuss, please don't hesitate to reach out.\n",
      "\n",
      "Thank you for choosing our resort, and I hope to have the opportunity to serve you better in the future.\n",
      "\n",
      "Best regards,\n",
      "Sarah the Resident Manager\n",
      " \n",
      "\n",
      "Final Email: Hi George,\n",
      "\n",
      "Thank you for reaching out to us about your experience at our resort. I'm so sorry to hear that the weather didn't meet your expectations. I can understand how frustrating it must be to have cloudy and overcast weather during your stay.\n",
      "\n",
      "Regarding your question about the weather in Arizona in April, our research suggests that Phoenix, Arizona usually experiences high temperatures around 82°F to 90°F during the day, with lows around 60°F to 70°F at night. However, it's not uncommon to have some cloudy days during this time of the year.\n",
      "\n",
      "I appreciate your sense of humor with your song title idea, 'Here comes the sun but it never came'! I'm sorry again that we didn't get to see the sunshine during your stay.\n",
      "\n",
      "Please know that we value your feedback and will take it into consideration for future improvements. If there's anything else you'd like to share or discuss, please don't hesitate to reach out.\n",
      "\n",
      "Thank you for choosing our resort, and I hope to have the opportunity to serve you better in the future.\n",
      "\n",
      "Best regards,\n",
      "Sarah the Resident Manager\n",
      " \n",
      "\n",
      "Research Info: [Document(metadata={}, page_content='{\\'location\\': {\\'name\\': \\'Arizona\\', \\'region\\': \\'Atlantida\\', \\'country\\': \\'Honduras\\', \\'lat\\': 15.6333, \\'lon\\': -87.3167, \\'tz_id\\': \\'America/Tegucigalpa\\', \\'localtime_epoch\\': 1730515920, \\'localtime\\': \\'2024-11-01 20:52\\'}, \\'current\\': {\\'last_updated_epoch\\': 1730515500, \\'last_updated\\': \\'2024-11-01 20:45\\', \\'temp_c\\': 25.2, \\'temp_f\\': 77.4, \\'is_day\\': 0, \\'condition\\': {\\'text\\': \\'Light rain\\', \\'icon\\': \\'//cdn.weatherapi.com/weather/64x64/night/296.png\\', \\'code\\': 1183}, \\'wind_mph\\': 2.2, \\'wind_kph\\': 3.6, \\'wind_degree\\': 127, \\'wind_dir\\': \\'SE\\', \\'pressure_mb\\': 1011.0, \\'pressure_in\\': 29.85, \\'precip_mm\\': 0.0, \\'precip_in\\': 0.0, \\'humidity\\': 89, \\'cloud\\': 50, \\'feelslike_c\\': 28.1, \\'feelslike_f\\': 82.6, \\'windchill_c\\': 23.7, \\'windchill_f\\': 74.7, \\'heatindex_c\\': 26.0, \\'heatindex_f\\': 78.9, \\'dewpoint_c\\': 22.0, \\'dewpoint_f\\': 71.6, \\'vis_km\\': 10.0, \\'vis_miles\\': 6.0, \\'uv\\': 0.0, \\'gust_mph\\': 3.6, \\'gust_kph\\': 5.8}}\\nWeather reports from April 2024 in Phoenix, Arizona, USA with highs and lows. Sign in. News. News Home; Astronomy News; Time Zone News; Calendar & Holiday News; Newsletter; Live events. World Clock. ... High & Low Weather Summary for April 2024 Temperature Humidity Pressure; High: 100 °F (Apr 22, 3:51 pm) 90% (Apr 1, 3:17 am) 30.19 \"Hg (Apr 1\\nApril Weather in Phoenix Arizona, United States. Daily high temperatures increase by 8°F, from 82°F to 90°F, ... The figure below presents a compact representation of key lunar data for April 2024. The horizontal axis is the day, the vertical axis is the hour of the day, and the colored areas indicate when the moon is above the horizon.\\nDetailed ⚡ Phoenix Weather Forecast for April 2024 - day/night 🌡️ temperatures, precipitations - World-Weather.info. Add the current city. Search. Weather; Archive; Widgets °F. World; United States; Arizona; Weather in Phoenix; Weather in Phoenix in April 2024. Phoenix Weather Forecast for April 2024 is based on statistical data\\nDetailed ⚡ Scottsdale Weather Forecast for April 2024 - day/night 🌡️ temperatures, precipitations - World-Weather.info. Add the current city. Search. Weather; Archive; Widgets °F. World; United States; Arizona; Weather in Scottsdale; Weather in Scottsdale in April 2024. Scottsdale Weather Forecast for April 2024 is based on')] \n",
      "\n",
      "Num Steps: 4 \n",
      "\n",
      "'Finished running: state_printer:'\n"
     ]
    }
   ],
   "source": [
    "# run the agent\n",
    "inputs = {\"initial_email\": EMAIL, \"research_info\": None, \"num_steps\": 0}\n",
    "for output in app.stream(inputs):\n",
    "    for key, value in output.items():\n",
    "        pprint(f\"Finished running: {key}:\")"
   ]
  },
  {
   "cell_type": "code",
   "execution_count": 57,
   "metadata": {},
   "outputs": [
    {
     "name": "stdout",
     "output_type": "stream",
     "text": [
      "---CATEGORIZING INITIAL EMAIL---\n",
      "'customer_complaint'\n",
      "---ROUTE TO RESEARCH---\n",
      "{'router_decision': 'research_info'}\n",
      "research_info\n",
      "---ROUTE EMAIL TO RESEARCH INFO---\n",
      "---RESEARCH INFO SEARCHING---\n",
      "Arizona weather April\n",
      "[Document(metadata={}, page_content=\"{'location': {'name': 'Arizona', 'region': 'Atlantida', 'country': 'Honduras', 'lat': 15.6333, 'lon': -87.3167, 'tz_id': 'America/Tegucigalpa', 'localtime_epoch': 1730515920, 'localtime': '2024-11-01 20:52'}, 'current': {'last_updated_epoch': 1730515500, 'last_updated': '2024-11-01 20:45', 'temp_c': 25.2, 'temp_f': 77.4, 'is_day': 0, 'condition': {'text': 'Light rain', 'icon': '//cdn.weatherapi.com/weather/64x64/night/296.png', 'code': 1183}, 'wind_mph': 2.2, 'wind_kph': 3.6, 'wind_degree': 127, 'wind_dir': 'SE', 'pressure_mb': 1011.0, 'pressure_in': 29.85, 'precip_mm': 0.0, 'precip_in': 0.0, 'humidity': 89, 'cloud': 50, 'feelslike_c': 28.1, 'feelslike_f': 82.6, 'windchill_c': 23.7, 'windchill_f': 74.7, 'heatindex_c': 26.0, 'heatindex_f': 78.9, 'dewpoint_c': 22.0, 'dewpoint_f': 71.6, 'vis_km': 10.0, 'vis_miles': 6.0, 'uv': 0.0, 'gust_mph': 3.6, 'gust_kph': 5.8}}\\nPast Weather in Phoenix, Arizona, USA — April 2024. Time/General. Weather. Time Zone. DST Changes. Sun & Moon. Weather Today Weather Hourly 14 Day Forecast Yesterday/Past Weather Climate (Averages) Currently: 93 °F. Passing clouds.\\nDetailed ⚡ Tucson Weather Forecast for April 2024 - day/night 🌡️ temperatures, precipitations - World-Weather.info. Add the current city. Search. Weather; Archive; Widgets °F. World; United States; Arizona; Weather in Tucson; Weather in Tucson in April 2024. Tucson Weather Forecast for April 2024 is based on statistical data. 2015\\nPhoenix Temperature History April 2024. The daily range of reported temperatures (gray bars) and 24-hour highs (red ticks) and lows (blue ticks), placed over the daily average high (faint red line) and low (faint blue line) temperature, with 25th to 75th and 10th to 90th percentile bands.\\nExtended weather forecast in Phoenix. Hourly Week 10-Day 14-Day 30-Day Year. Detailed ⚡ Phoenix Weather Forecast for April 2024 - day/night 🌡️ temperatures, precipitations - World-Weather.info.\")]\n",
      "<class 'list'>\n",
      "---DRAFT EMAIL WRITER---\n",
      "{'email_draft': \"Hi George,\\n\\nThank you for taking the time to share your experience with us. I'm so sorry to hear that the weather didn't quite live up to your expectations during your stay in Arizona.\\n\\nRegarding your question about the weather in Arizona in April, I've found that the average high temperature in April is around 93°F (34°C), with plenty of sunshine throughout the month. However, it's not uncommon to have some cloudy and overcast days.\\n\\nI appreciate your sense of humor and creativity with your song title idea! Unfortunately, we can't control the weather, but we appreciate your feedback and will take it into consideration for future improvements.\\n\\nPlease know that we value you as a customer and appreciate your feedback. If there's anything else we can do to make things right, please don't hesitate to let us know.\\n\\nBest regards,\\nSarah, Resident Manager\"}\n",
      "---ROUTE TO REWRITE---\n",
      "{'router_decision': 'no_rewrite'}\n",
      "no_rewrite\n",
      "---ROUTE EMAIL TO FINAL EMAIL---\n",
      "---NO REWRITE EMAIL ---\n",
      "---STATE PRINTER---\n",
      "Initial Email: HI there, \n",
      "\n",
      "I am emailing to say that the resort weather was way to cloudy and overcast. \n",
      "\n",
      "I wanted to write a song called 'Here comes the sun but it never came'\n",
      "\n",
      "What should be the weather in Arizona in April?\n",
      "\n",
      "I really hope you fix this next time.\n",
      "\n",
      "Thanks,\n",
      "George\n",
      " \n",
      "\n",
      "Email Category: 'customer_complaint' \n",
      "\n",
      "Draft Email: Hi George,\n",
      "\n",
      "Thank you for taking the time to share your experience with us. I'm so sorry to hear that the weather didn't quite live up to your expectations during your stay in Arizona.\n",
      "\n",
      "Regarding your question about the weather in Arizona in April, I've found that the average high temperature in April is around 93°F (34°C), with plenty of sunshine throughout the month. However, it's not uncommon to have some cloudy and overcast days.\n",
      "\n",
      "I appreciate your sense of humor and creativity with your song title idea! Unfortunately, we can't control the weather, but we appreciate your feedback and will take it into consideration for future improvements.\n",
      "\n",
      "Please know that we value you as a customer and appreciate your feedback. If there's anything else we can do to make things right, please don't hesitate to let us know.\n",
      "\n",
      "Best regards,\n",
      "Sarah, Resident Manager \n",
      "\n",
      "Final Email: Hi George,\n",
      "\n",
      "Thank you for taking the time to share your experience with us. I'm so sorry to hear that the weather didn't quite live up to your expectations during your stay in Arizona.\n",
      "\n",
      "Regarding your question about the weather in Arizona in April, I've found that the average high temperature in April is around 93°F (34°C), with plenty of sunshine throughout the month. However, it's not uncommon to have some cloudy and overcast days.\n",
      "\n",
      "I appreciate your sense of humor and creativity with your song title idea! Unfortunately, we can't control the weather, but we appreciate your feedback and will take it into consideration for future improvements.\n",
      "\n",
      "Please know that we value you as a customer and appreciate your feedback. If there's anything else we can do to make things right, please don't hesitate to let us know.\n",
      "\n",
      "Best regards,\n",
      "Sarah, Resident Manager \n",
      "\n",
      "Research Info: [Document(metadata={}, page_content=\"{'location': {'name': 'Arizona', 'region': 'Atlantida', 'country': 'Honduras', 'lat': 15.6333, 'lon': -87.3167, 'tz_id': 'America/Tegucigalpa', 'localtime_epoch': 1730515920, 'localtime': '2024-11-01 20:52'}, 'current': {'last_updated_epoch': 1730515500, 'last_updated': '2024-11-01 20:45', 'temp_c': 25.2, 'temp_f': 77.4, 'is_day': 0, 'condition': {'text': 'Light rain', 'icon': '//cdn.weatherapi.com/weather/64x64/night/296.png', 'code': 1183}, 'wind_mph': 2.2, 'wind_kph': 3.6, 'wind_degree': 127, 'wind_dir': 'SE', 'pressure_mb': 1011.0, 'pressure_in': 29.85, 'precip_mm': 0.0, 'precip_in': 0.0, 'humidity': 89, 'cloud': 50, 'feelslike_c': 28.1, 'feelslike_f': 82.6, 'windchill_c': 23.7, 'windchill_f': 74.7, 'heatindex_c': 26.0, 'heatindex_f': 78.9, 'dewpoint_c': 22.0, 'dewpoint_f': 71.6, 'vis_km': 10.0, 'vis_miles': 6.0, 'uv': 0.0, 'gust_mph': 3.6, 'gust_kph': 5.8}}\\nPast Weather in Phoenix, Arizona, USA — April 2024. Time/General. Weather. Time Zone. DST Changes. Sun & Moon. Weather Today Weather Hourly 14 Day Forecast Yesterday/Past Weather Climate (Averages) Currently: 93 °F. Passing clouds.\\nDetailed ⚡ Tucson Weather Forecast for April 2024 - day/night 🌡️ temperatures, precipitations - World-Weather.info. Add the current city. Search. Weather; Archive; Widgets °F. World; United States; Arizona; Weather in Tucson; Weather in Tucson in April 2024. Tucson Weather Forecast for April 2024 is based on statistical data. 2015\\nPhoenix Temperature History April 2024. The daily range of reported temperatures (gray bars) and 24-hour highs (red ticks) and lows (blue ticks), placed over the daily average high (faint red line) and low (faint blue line) temperature, with 25th to 75th and 10th to 90th percentile bands.\\nExtended weather forecast in Phoenix. Hourly Week 10-Day 14-Day 30-Day Year. Detailed ⚡ Phoenix Weather Forecast for April 2024 - day/night 🌡️ temperatures, precipitations - World-Weather.info.\")] \n",
      "\n",
      "Num Steps: 4 \n",
      "\n",
      "Hi George,\n",
      "\n",
      "Thank you for taking the time to share your experience with us. I'm so sorry to hear that the weather didn't quite live up to your expectations during your stay in Arizona.\n",
      "\n",
      "Regarding your question about the weather in Arizona in April, I've found that the average high temperature in April is around 93°F (34°C), with plenty of sunshine throughout the month. However, it's not uncommon to have some cloudy and overcast days.\n",
      "\n",
      "I appreciate your sense of humor and creativity with your song title idea! Unfortunately, we can't control the weather, but we appreciate your feedback and will take it into consideration for future improvements.\n",
      "\n",
      "Please know that we value you as a customer and appreciate your feedback. If there's anything else we can do to make things right, please don't hesitate to let us know.\n",
      "\n",
      "Best regards,\n",
      "Sarah, Resident Manager\n"
     ]
    }
   ],
   "source": [
    "output = app.invoke(inputs)\n",
    "\n",
    "print(output['final_email'])"
   ]
  },
  {
   "cell_type": "code",
   "execution_count": 64,
   "metadata": {},
   "outputs": [
    {
     "name": "stdout",
     "output_type": "stream",
     "text": [
      "'customer_complaint'\n"
     ]
    }
   ],
   "source": [
    "!type \"C:\\Users\\User\\Data Science\\Deep Learning\\Generative AI\\Langgraph\\Email AI Agent\\email_category.md\""
   ]
  },
  {
   "cell_type": "code",
   "execution_count": 65,
   "metadata": {},
   "outputs": [
    {
     "name": "stdout",
     "output_type": "stream",
     "text": [
      "Hi George,\n",
      "\n",
      "Thank you for taking the time to share your experience with us. I'm so sorry to hear that the weather didn't quite live up to your expectations during your stay in Arizona.\n",
      "\n",
      "Regarding your question about the weather in Arizona in April, I've found that the average high temperature in April is around 93�F (34�C), with plenty of sunshine throughout the month. However, it's not uncommon to have some cloudy and overcast days.\n",
      "\n",
      "I appreciate your sense of humor and creativity with your song title idea! Unfortunately, we can't control the weather, but we appreciate your feedback and will take it into consideration for future improvements.\n",
      "\n",
      "Please know that we value you as a customer and appreciate your feedback. If there's anything else we can do to make things right, please don't hesitate to let us know.\n",
      "\n",
      "Best regards,\n",
      "Sarah, Resident Manager\n"
     ]
    }
   ],
   "source": [
    "!type \"C:\\Users\\User\\Data Science\\Deep Learning\\Generative AI\\Langgraph\\Email AI Agent\\draft_email.md\""
   ]
  }
 ],
 "metadata": {
  "kernelspec": {
   "display_name": "pearonblu-env",
   "language": "python",
   "name": "python3"
  },
  "language_info": {
   "codemirror_mode": {
    "name": "ipython",
    "version": 3
   },
   "file_extension": ".py",
   "mimetype": "text/x-python",
   "name": "python",
   "nbconvert_exporter": "python",
   "pygments_lexer": "ipython3",
   "version": "3.10.5"
  }
 },
 "nbformat": 4,
 "nbformat_minor": 2
}
